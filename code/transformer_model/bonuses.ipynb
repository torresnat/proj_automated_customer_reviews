{
 "cells": [
  {
   "cell_type": "markdown",
   "id": "2e7bd213-d1cf-41cc-8ece-79e79144d1a7",
   "metadata": {},
   "source": [
    "# BONUSES"
   ]
  },
  {
   "cell_type": "markdown",
   "id": "783acee7-065e-46e7-8ffb-ac1678cb3724",
   "metadata": {},
   "source": [
    "### First, let set the environment!"
   ]
  },
  {
   "cell_type": "code",
   "execution_count": 32,
   "id": "ca6d8641-d2b8-4d68-b722-4c41266ad53d",
   "metadata": {},
   "outputs": [],
   "source": [
    "from transformers import pipeline\n",
    "import pandas as pd\n",
    "import tensorflow as tf\n",
    "from collections import defaultdict\n",
    "import plotly.express as px"
   ]
  },
  {
   "cell_type": "markdown",
   "id": "978100f5-6bcb-4059-8665-1b8541606823",
   "metadata": {},
   "source": [
    "### For a product category, we created a summary of all reviews broken down by each star rating:"
   ]
  },
  {
   "cell_type": "code",
   "execution_count": 5,
   "id": "7d14aae0-1ea1-4318-a2cd-8f595babd375",
   "metadata": {},
   "outputs": [
    {
     "name": "stdout",
     "output_type": "stream",
     "text": [
      "      Category  Rating                                            Summary\n",
      "0  Electronics       1  I was looking for a kindle whitepaper. I saw o...\n",
      "1  Electronics       2  The screen is too dark, and cannot adjust the ...\n",
      "2  Electronics       3  Kindle Black was not a good fit for me. Would ...\n",
      "3  Electronics       4  The Amazon Kindle is light weight and easy to ...\n",
      "4  Electronics       5  This kindle is light and easy to use especiall...\n"
     ]
    }
   ],
   "source": [
    "required_columns = ['primaryCategories', 'reviews.rating', 'reviews.text']\n",
    "df = df[required_columns].dropna()  # Drop missing values\n",
    "\n",
    "df['reviews.rating'] = df['reviews.rating'].astype(int)\n",
    "\n",
    "top_categories = df['primaryCategories'].value_counts().head(10).index\n",
    "df_top = df[df['primaryCategories'].isin(top_categories)]\n",
    "\n",
    "summarizer = pipeline(\"summarization\", model=\"facebook/bart-large-cnn\")\n",
    "\n",
    "def summarize_reviews(group):\n",
    "    text = \" \".join(group['reviews.text'].tolist())[:1024]  # Limit input length to avoid model errors\n",
    "    summary = summarizer(text, max_length=10, min_length=1, do_sample=False)[0]['summary_text']\n",
    "    return summary\n",
    "    \n",
    "summary_df = (\n",
    "    df_top.groupby(['primaryCategories', 'reviews.rating', 'reviews.text'])\n",
    "    .apply(summarize_reviews)\n",
    "    .reset_index()\n",
    ")\n",
    "summary_df.columns = ['Category', 'Rating', 'Summary']\n",
    "print(summary_df.head())"
   ]
  },
  {
   "cell_type": "markdown",
   "id": "ebbc00d4-57e3-44ac-8156-cd247cb7e6c8",
   "metadata": {},
   "source": [
    "### Here we use Generative AI to summaraize reviews broken down by review scores:"
   ]
  },
  {
   "cell_type": "code",
   "execution_count": null,
   "id": "5435a859-f8ae-4294-8b52-3cd4efbfc7ef",
   "metadata": {},
   "outputs": [],
   "source": [
    "top_k = 10  # Selecting the top 10 categories\n",
    "top_categories = df[\"primaryCategories\"].value_counts().nlargest(top_k).index\n",
    "\n",
    "# Filter the dataset to include only the top categories\n",
    "filtered_df = df[df[\"primaryCategories\"].isin(top_categories)]\n",
    "\n",
    "# Group reviews by category and rating\n",
    "grouped_reviews = filtered_df.groupby([\"primaryCategories\", \"reviews.rating\"])[\"reviews.text\"].apply(lambda x: \" \".join(x))\n",
    "\n",
    "# Convert to a DataFrame for processing\n",
    "grouped_reviews_df = grouped_reviews.reset_index()\n",
    "\n",
    "\n",
    "# Function to summarize reviews using Generative AI\n",
    "def summarize_reviews(text):\n",
    "    if len(text) > 1000:  # Limit text length for processing efficiency\n",
    "        text = text[:1000]\n",
    "    summary_prompt = f\"Summarize the following product reviews concisely:\\n{text}\"\n",
    "    return summary_prompt  # Placeholder for Generative AI\n",
    "\n",
    "# Apply summarization to each review group\n",
    "grouped_reviews_df[\"summary\"] = grouped_reviews_df[\"reviews.text\"].apply(summarize_reviews)"
   ]
  },
  {
   "cell_type": "markdown",
   "id": "8d1902b2-c0d7-44ba-b7e6-e49568842ff8",
   "metadata": {},
   "source": [
    "### Finally, we create the dinamic Plotly."
   ]
  },
  {
   "cell_type": "code",
   "execution_count": 30,
   "id": "22e25f73-4254-4054-8c0a-fd9341712b47",
   "metadata": {},
   "outputs": [
    {
     "ename": "NameError",
     "evalue": "name 'px' is not defined",
     "output_type": "error",
     "traceback": [
      "\u001b[1;31m---------------------------------------------------------------------------\u001b[0m",
      "\u001b[1;31mNameError\u001b[0m                                 Traceback (most recent call last)",
      "Cell \u001b[1;32mIn[30], line 7\u001b[0m\n\u001b[0;32m      3\u001b[0m review_counts \u001b[38;5;241m=\u001b[39m df\u001b[38;5;241m.\u001b[39mgroupby([\u001b[38;5;124m\"\u001b[39m\u001b[38;5;124mprimaryCategories\u001b[39m\u001b[38;5;124m\"\u001b[39m, \u001b[38;5;124m\"\u001b[39m\u001b[38;5;124mreviews.rating\u001b[39m\u001b[38;5;124m\"\u001b[39m])\u001b[38;5;241m.\u001b[39msize()\u001b[38;5;241m.\u001b[39mreset_index(name\u001b[38;5;241m=\u001b[39m\u001b[38;5;124m\"\u001b[39m\u001b[38;5;124mcount\u001b[39m\u001b[38;5;124m\"\u001b[39m)\n\u001b[0;32m      5\u001b[0m review_counts[\u001b[38;5;124m\"\u001b[39m\u001b[38;5;124mreviews.rating\u001b[39m\u001b[38;5;124m\"\u001b[39m] \u001b[38;5;241m=\u001b[39m pd\u001b[38;5;241m.\u001b[39mCategorical(review_counts[\u001b[38;5;124m\"\u001b[39m\u001b[38;5;124mreviews.rating\u001b[39m\u001b[38;5;124m\"\u001b[39m], categories\u001b[38;5;241m=\u001b[39m[\u001b[38;5;124m\"\u001b[39m\u001b[38;5;124m1\u001b[39m\u001b[38;5;124m\"\u001b[39m, \u001b[38;5;124m\"\u001b[39m\u001b[38;5;124m2\u001b[39m\u001b[38;5;124m\"\u001b[39m, \u001b[38;5;124m\"\u001b[39m\u001b[38;5;124m3\u001b[39m\u001b[38;5;124m\"\u001b[39m, \u001b[38;5;124m\"\u001b[39m\u001b[38;5;124m4\u001b[39m\u001b[38;5;124m\"\u001b[39m, \u001b[38;5;124m\"\u001b[39m\u001b[38;5;124m5\u001b[39m\u001b[38;5;124m\"\u001b[39m], ordered\u001b[38;5;241m=\u001b[39m\u001b[38;5;28;01mTrue\u001b[39;00m)\n\u001b[1;32m----> 7\u001b[0m fig \u001b[38;5;241m=\u001b[39m px\u001b[38;5;241m.\u001b[39mbar(\n\u001b[0;32m      8\u001b[0m     review_counts,\n\u001b[0;32m      9\u001b[0m     x\u001b[38;5;241m=\u001b[39m\u001b[38;5;124m\"\u001b[39m\u001b[38;5;124mprimaryCategories\u001b[39m\u001b[38;5;124m\"\u001b[39m,\n\u001b[0;32m     10\u001b[0m     y\u001b[38;5;241m=\u001b[39m\u001b[38;5;124m\"\u001b[39m\u001b[38;5;124mcount\u001b[39m\u001b[38;5;124m\"\u001b[39m,\n\u001b[0;32m     11\u001b[0m     color\u001b[38;5;241m=\u001b[39m\u001b[38;5;124m\"\u001b[39m\u001b[38;5;124mreviews.rating\u001b[39m\u001b[38;5;124m\"\u001b[39m,\n\u001b[0;32m     12\u001b[0m     title\u001b[38;5;241m=\u001b[39m\u001b[38;5;124m\"\u001b[39m\u001b[38;5;124mReview Distribution by Product Category and Rating\u001b[39m\u001b[38;5;124m\"\u001b[39m,\n\u001b[0;32m     13\u001b[0m     labels\u001b[38;5;241m=\u001b[39m{\u001b[38;5;124m\"\u001b[39m\u001b[38;5;124mprimaryCategories\u001b[39m\u001b[38;5;124m\"\u001b[39m: \u001b[38;5;124m\"\u001b[39m\u001b[38;5;124mProduct Category\u001b[39m\u001b[38;5;124m\"\u001b[39m, \u001b[38;5;124m\"\u001b[39m\u001b[38;5;124mcount\u001b[39m\u001b[38;5;124m\"\u001b[39m: \u001b[38;5;124m\"\u001b[39m\u001b[38;5;124mNumber of Reviews\u001b[39m\u001b[38;5;124m\"\u001b[39m, \u001b[38;5;124m\"\u001b[39m\u001b[38;5;124mreviews.rating\u001b[39m\u001b[38;5;124m\"\u001b[39m: \u001b[38;5;124m\"\u001b[39m\u001b[38;5;124mReview Rating\u001b[39m\u001b[38;5;124m\"\u001b[39m},\n\u001b[0;32m     14\u001b[0m     barmode\u001b[38;5;241m=\u001b[39m\u001b[38;5;124m\"\u001b[39m\u001b[38;5;124mgroup\u001b[39m\u001b[38;5;124m\"\u001b[39m\n\u001b[0;32m     15\u001b[0m )\n\u001b[0;32m     16\u001b[0m fig\n",
      "\u001b[1;31mNameError\u001b[0m: name 'px' is not defined"
     ]
    }
   ],
   "source": [
    "df[\"reviews.rating\"] = df[\"reviews.rating\"].astype(str)  \n",
    "\n",
    "review_counts = df.groupby([\"primaryCategories\", \"reviews.rating\"]).size().reset_index(name=\"count\")\n",
    "\n",
    "review_counts[\"reviews.rating\"] = pd.Categorical(review_counts[\"reviews.rating\"], categories=[\"1\", \"2\", \"3\", \"4\", \"5\"], ordered=True)\n",
    "\n",
    "fig = px.bar(\n",
    "    review_counts,\n",
    "    x=\"primaryCategories\",\n",
    "    y=\"count\",\n",
    "    color=\"reviews.rating\",\n",
    "    title=\"Review Distribution by Product Category and Rating\",\n",
    "    labels={\"primaryCategories\": \"Product Category\", \"count\": \"Number of Reviews\", \"reviews.rating\": \"Review Rating\"},\n",
    "    barmode=\"group\"\n",
    ")\n",
    "fig"
   ]
  },
  {
   "cell_type": "code",
   "execution_count": null,
   "id": "0d549410-6ed9-4fca-83eb-62d58ee8f3ad",
   "metadata": {},
   "outputs": [],
   "source": []
  }
 ],
 "metadata": {
  "kernelspec": {
   "display_name": "Python 3 (ipykernel)",
   "language": "python",
   "name": "python3"
  },
  "language_info": {
   "codemirror_mode": {
    "name": "ipython",
    "version": 3
   },
   "file_extension": ".py",
   "mimetype": "text/x-python",
   "name": "python",
   "nbconvert_exporter": "python",
   "pygments_lexer": "ipython3",
   "version": "3.12.7"
  }
 },
 "nbformat": 4,
 "nbformat_minor": 5
}
