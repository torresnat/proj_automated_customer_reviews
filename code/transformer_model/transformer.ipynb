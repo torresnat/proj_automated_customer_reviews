{
 "cells": [
  {
   "cell_type": "markdown",
   "id": "9d69f860-1edc-480b-a601-0a60628b5528",
   "metadata": {},
   "source": [
    "# This is the Deep Learning solution transformer fase of the project!\n",
    "### First we intalled tf-keras because of some version issues. "
   ]
  },
  {
   "cell_type": "code",
   "execution_count": 3,
   "id": "7a4c264d-5b60-4a63-bd97-0a71b264d638",
   "metadata": {},
   "outputs": [
    {
     "name": "stdout",
     "output_type": "stream",
     "text": [
      "Requirement already satisfied: tf-keras in c:\\users\\torre\\anaconda3\\lib\\site-packages (2.18.0)Note: you may need to restart the kernel to use updated packages.\n",
      "\n",
      "Requirement already satisfied: tensorflow<2.19,>=2.18 in c:\\users\\torre\\anaconda3\\lib\\site-packages (from tf-keras) (2.18.0)\n",
      "Requirement already satisfied: tensorflow-intel==2.18.0 in c:\\users\\torre\\anaconda3\\lib\\site-packages (from tensorflow<2.19,>=2.18->tf-keras) (2.18.0)\n",
      "Requirement already satisfied: absl-py>=1.0.0 in c:\\users\\torre\\anaconda3\\lib\\site-packages (from tensorflow-intel==2.18.0->tensorflow<2.19,>=2.18->tf-keras) (2.1.0)\n",
      "Requirement already satisfied: astunparse>=1.6.0 in c:\\users\\torre\\anaconda3\\lib\\site-packages (from tensorflow-intel==2.18.0->tensorflow<2.19,>=2.18->tf-keras) (1.6.3)\n",
      "Requirement already satisfied: flatbuffers>=24.3.25 in c:\\users\\torre\\anaconda3\\lib\\site-packages (from tensorflow-intel==2.18.0->tensorflow<2.19,>=2.18->tf-keras) (25.1.21)\n",
      "Requirement already satisfied: gast!=0.5.0,!=0.5.1,!=0.5.2,>=0.2.1 in c:\\users\\torre\\anaconda3\\lib\\site-packages (from tensorflow-intel==2.18.0->tensorflow<2.19,>=2.18->tf-keras) (0.6.0)\n",
      "Requirement already satisfied: google-pasta>=0.1.1 in c:\\users\\torre\\anaconda3\\lib\\site-packages (from tensorflow-intel==2.18.0->tensorflow<2.19,>=2.18->tf-keras) (0.2.0)\n",
      "Requirement already satisfied: libclang>=13.0.0 in c:\\users\\torre\\anaconda3\\lib\\site-packages (from tensorflow-intel==2.18.0->tensorflow<2.19,>=2.18->tf-keras) (18.1.1)\n",
      "Requirement already satisfied: opt-einsum>=2.3.2 in c:\\users\\torre\\anaconda3\\lib\\site-packages (from tensorflow-intel==2.18.0->tensorflow<2.19,>=2.18->tf-keras) (3.4.0)\n",
      "Requirement already satisfied: packaging in c:\\users\\torre\\anaconda3\\lib\\site-packages (from tensorflow-intel==2.18.0->tensorflow<2.19,>=2.18->tf-keras) (24.1)\n",
      "Requirement already satisfied: protobuf!=4.21.0,!=4.21.1,!=4.21.2,!=4.21.3,!=4.21.4,!=4.21.5,<6.0.0dev,>=3.20.3 in c:\\users\\torre\\anaconda3\\lib\\site-packages (from tensorflow-intel==2.18.0->tensorflow<2.19,>=2.18->tf-keras) (4.25.3)\n",
      "Requirement already satisfied: requests<3,>=2.21.0 in c:\\users\\torre\\anaconda3\\lib\\site-packages (from tensorflow-intel==2.18.0->tensorflow<2.19,>=2.18->tf-keras) (2.32.3)\n",
      "Requirement already satisfied: setuptools in c:\\users\\torre\\anaconda3\\lib\\site-packages (from tensorflow-intel==2.18.0->tensorflow<2.19,>=2.18->tf-keras) (75.1.0)\n",
      "Requirement already satisfied: six>=1.12.0 in c:\\users\\torre\\anaconda3\\lib\\site-packages (from tensorflow-intel==2.18.0->tensorflow<2.19,>=2.18->tf-keras) (1.16.0)\n",
      "Requirement already satisfied: termcolor>=1.1.0 in c:\\users\\torre\\anaconda3\\lib\\site-packages (from tensorflow-intel==2.18.0->tensorflow<2.19,>=2.18->tf-keras) (2.5.0)\n",
      "Requirement already satisfied: typing-extensions>=3.6.6 in c:\\users\\torre\\anaconda3\\lib\\site-packages (from tensorflow-intel==2.18.0->tensorflow<2.19,>=2.18->tf-keras) (4.11.0)\n",
      "Requirement already satisfied: wrapt>=1.11.0 in c:\\users\\torre\\anaconda3\\lib\\site-packages (from tensorflow-intel==2.18.0->tensorflow<2.19,>=2.18->tf-keras) (1.14.1)\n",
      "Requirement already satisfied: grpcio<2.0,>=1.24.3 in c:\\users\\torre\\anaconda3\\lib\\site-packages (from tensorflow-intel==2.18.0->tensorflow<2.19,>=2.18->tf-keras) (1.69.0)\n",
      "Requirement already satisfied: tensorboard<2.19,>=2.18 in c:\\users\\torre\\anaconda3\\lib\\site-packages (from tensorflow-intel==2.18.0->tensorflow<2.19,>=2.18->tf-keras) (2.18.0)\n",
      "Requirement already satisfied: keras>=3.5.0 in c:\\users\\torre\\anaconda3\\lib\\site-packages (from tensorflow-intel==2.18.0->tensorflow<2.19,>=2.18->tf-keras) (3.8.0)\n",
      "Requirement already satisfied: numpy<2.1.0,>=1.26.0 in c:\\users\\torre\\anaconda3\\lib\\site-packages (from tensorflow-intel==2.18.0->tensorflow<2.19,>=2.18->tf-keras) (1.26.4)\n",
      "Requirement already satisfied: h5py>=3.11.0 in c:\\users\\torre\\anaconda3\\lib\\site-packages (from tensorflow-intel==2.18.0->tensorflow<2.19,>=2.18->tf-keras) (3.11.0)\n",
      "Requirement already satisfied: ml-dtypes<0.5.0,>=0.4.0 in c:\\users\\torre\\anaconda3\\lib\\site-packages (from tensorflow-intel==2.18.0->tensorflow<2.19,>=2.18->tf-keras) (0.4.1)\n",
      "Requirement already satisfied: wheel<1.0,>=0.23.0 in c:\\users\\torre\\anaconda3\\lib\\site-packages (from astunparse>=1.6.0->tensorflow-intel==2.18.0->tensorflow<2.19,>=2.18->tf-keras) (0.44.0)\n",
      "Requirement already satisfied: rich in c:\\users\\torre\\anaconda3\\lib\\site-packages (from keras>=3.5.0->tensorflow-intel==2.18.0->tensorflow<2.19,>=2.18->tf-keras) (13.7.1)\n",
      "Requirement already satisfied: namex in c:\\users\\torre\\anaconda3\\lib\\site-packages (from keras>=3.5.0->tensorflow-intel==2.18.0->tensorflow<2.19,>=2.18->tf-keras) (0.0.8)\n",
      "Requirement already satisfied: optree in c:\\users\\torre\\anaconda3\\lib\\site-packages (from keras>=3.5.0->tensorflow-intel==2.18.0->tensorflow<2.19,>=2.18->tf-keras) (0.14.0)\n",
      "Requirement already satisfied: charset-normalizer<4,>=2 in c:\\users\\torre\\anaconda3\\lib\\site-packages (from requests<3,>=2.21.0->tensorflow-intel==2.18.0->tensorflow<2.19,>=2.18->tf-keras) (3.3.2)\n",
      "Requirement already satisfied: idna<4,>=2.5 in c:\\users\\torre\\anaconda3\\lib\\site-packages (from requests<3,>=2.21.0->tensorflow-intel==2.18.0->tensorflow<2.19,>=2.18->tf-keras) (3.7)\n",
      "Requirement already satisfied: urllib3<3,>=1.21.1 in c:\\users\\torre\\anaconda3\\lib\\site-packages (from requests<3,>=2.21.0->tensorflow-intel==2.18.0->tensorflow<2.19,>=2.18->tf-keras) (2.2.3)\n",
      "Requirement already satisfied: certifi>=2017.4.17 in c:\\users\\torre\\anaconda3\\lib\\site-packages (from requests<3,>=2.21.0->tensorflow-intel==2.18.0->tensorflow<2.19,>=2.18->tf-keras) (2024.12.14)\n",
      "Requirement already satisfied: markdown>=2.6.8 in c:\\users\\torre\\anaconda3\\lib\\site-packages (from tensorboard<2.19,>=2.18->tensorflow-intel==2.18.0->tensorflow<2.19,>=2.18->tf-keras) (3.4.1)\n",
      "Requirement already satisfied: tensorboard-data-server<0.8.0,>=0.7.0 in c:\\users\\torre\\anaconda3\\lib\\site-packages (from tensorboard<2.19,>=2.18->tensorflow-intel==2.18.0->tensorflow<2.19,>=2.18->tf-keras) (0.7.2)\n",
      "Requirement already satisfied: werkzeug>=1.0.1 in c:\\users\\torre\\anaconda3\\lib\\site-packages (from tensorboard<2.19,>=2.18->tensorflow-intel==2.18.0->tensorflow<2.19,>=2.18->tf-keras) (3.0.3)\n",
      "Requirement already satisfied: MarkupSafe>=2.1.1 in c:\\users\\torre\\anaconda3\\lib\\site-packages (from werkzeug>=1.0.1->tensorboard<2.19,>=2.18->tensorflow-intel==2.18.0->tensorflow<2.19,>=2.18->tf-keras) (2.1.3)\n",
      "Requirement already satisfied: markdown-it-py>=2.2.0 in c:\\users\\torre\\anaconda3\\lib\\site-packages (from rich->keras>=3.5.0->tensorflow-intel==2.18.0->tensorflow<2.19,>=2.18->tf-keras) (2.2.0)\n",
      "Requirement already satisfied: pygments<3.0.0,>=2.13.0 in c:\\users\\torre\\anaconda3\\lib\\site-packages (from rich->keras>=3.5.0->tensorflow-intel==2.18.0->tensorflow<2.19,>=2.18->tf-keras) (2.15.1)\n",
      "Requirement already satisfied: mdurl~=0.1 in c:\\users\\torre\\anaconda3\\lib\\site-packages (from markdown-it-py>=2.2.0->rich->keras>=3.5.0->tensorflow-intel==2.18.0->tensorflow<2.19,>=2.18->tf-keras) (0.1.0)\n"
     ]
    }
   ],
   "source": [
    "pip install tf-keras"
   ]
  },
  {
   "cell_type": "code",
   "execution_count": null,
   "id": "b84e4625-1e15-4b62-9ee9-e39e4b7d08b2",
   "metadata": {},
   "outputs": [],
   "source": [
    "pip install accelerate torch transformers"
   ]
  },
  {
   "cell_type": "markdown",
   "id": "95589ac2-04bf-47ca-94fb-d6834d12c400",
   "metadata": {},
   "source": [
    "### Here we set the environments. "
   ]
  },
  {
   "cell_type": "code",
   "execution_count": 2,
   "id": "73bbae0d-56d7-472b-815a-a21871ef5746",
   "metadata": {},
   "outputs": [],
   "source": [
    "import pandas as pd\n",
    "import tensorflow as tf\n",
    "from transformers import pipeline\n",
    "import re\n",
    "from nltk.tokenize import word_tokenize\n",
    "from transformers import AutoTokenizer\n",
    "from transformers import EarlyStoppingCallback"
   ]
  },
  {
   "cell_type": "markdown",
   "id": "db7488a8-006d-4099-a1b4-45683255d63d",
   "metadata": {},
   "source": [
    "### Loading the dataset. "
   ]
  },
  {
   "cell_type": "code",
   "execution_count": 5,
   "id": "f6f1fd47-0e69-409b-a4b3-e2a688447e90",
   "metadata": {},
   "outputs": [],
   "source": [
    "df = pd.read_csv(\"data/Datafiniti_Amazon_Consumer_Reviews_of_Amazon_Products.csv\")"
   ]
  },
  {
   "cell_type": "markdown",
   "id": "87ba80d8-2d72-480e-b8fa-3d936f2a547c",
   "metadata": {},
   "source": [
    "### First, let's start with the tokenization of the data to remove special characters."
   ]
  },
  {
   "cell_type": "code",
   "execution_count": 8,
   "id": "fcb5c307-561b-4b3b-b059-cd20bba64c95",
   "metadata": {},
   "outputs": [
    {
     "name": "stdout",
     "output_type": "stream",
     "text": [
      "                                        reviews.text  \\\n",
      "0  I thought it would be as big as small paper bu...   \n",
      "1  This kindle is light and easy to use especiall...   \n",
      "2  Didnt know how much i'd use a kindle so went f...   \n",
      "3  I am 100 happy with my purchase. I caught it o...   \n",
      "4  Solid entry level Kindle. Great for kids. Gift...   \n",
      "\n",
      "                                     cleaned_reviews  \n",
      "0  i thought it would be as big as small paper bu...  \n",
      "1  this kindle is light and easy to use especiall...  \n",
      "2  didnt know how much id use a kindle so went fo...  \n",
      "3  i am happy with my purchase i caught it on sal...  \n",
      "4  solid entry level kindle great for kids gifted...  \n"
     ]
    }
   ],
   "source": [
    "def clean_and_tokenize(text):\n",
    "    if isinstance(text, str):\n",
    "        text = re.sub(r\"[^a-zA-Z\\s]\", \"\", text)\n",
    "        text = text.lower()\n",
    "        tokens = text.split()\n",
    "        return \" \".join(tokens)\n",
    "    return \"\"\n",
    "\n",
    "df[\"cleaned_reviews\"] = df[\"reviews.text\"].apply(clean_and_tokenize)\n",
    "\n",
    "print(df[[\"reviews.text\", \"cleaned_reviews\"]].head())"
   ]
  },
  {
   "cell_type": "markdown",
   "id": "f28af599-84a5-4875-93d0-ee780db5597d",
   "metadata": {},
   "source": [
    "### Then we work on applying the tokenization using the tokenizer with the HuggingFace Transformers. \n",
    "### The text data is converted into input tokens suitable for model input. "
   ]
  },
  {
   "cell_type": "code",
   "execution_count": 11,
   "id": "01bdfdac-cb2f-42e5-8d01-6845d8c1e4ef",
   "metadata": {},
   "outputs": [
    {
     "name": "stdout",
     "output_type": "stream",
     "text": [
      "                                        reviews.text  \\\n",
      "0  I thought it would be as big as small paper bu...   \n",
      "1  This kindle is light and easy to use especiall...   \n",
      "2  Didnt know how much i'd use a kindle so went f...   \n",
      "3  I am 100 happy with my purchase. I caught it o...   \n",
      "4  Solid entry level Kindle. Great for kids. Gift...   \n",
      "\n",
      "                                   tokenized_reviews  \n",
      "0  [101, 1045, 2245, 2009, 2052, 2022, 2004, 2502...  \n",
      "1  [101, 2023, 2785, 2571, 2003, 2422, 1998, 3733...  \n",
      "2  [101, 2134, 2102, 2113, 2129, 2172, 1045, 1005...  \n",
      "3  [101, 1045, 2572, 2531, 3407, 2007, 2026, 5309...  \n",
      "4  [101, 5024, 4443, 2504, 2785, 2571, 1012, 2307...  \n"
     ]
    }
   ],
   "source": [
    "tokenizer = AutoTokenizer.from_pretrained(\"distilbert-base-uncased\")\n",
    "\n",
    "def tokenize_text(text):\n",
    "    if isinstance(text, str):\n",
    "        return tokenizer.encode(text, truncation=True, padding=\"max_length\", max_length=128)\n",
    "    return []\n",
    "\n",
    "df[\"tokenized_reviews\"] = df[\"reviews.text\"].apply(tokenize_text)\n",
    "\n",
    "df.to_csv(\"tokenized_reviews.csv\", index=False)\n",
    "print(df[[\"reviews.text\", \"tokenized_reviews\"]].head())"
   ]
  },
  {
   "cell_type": "markdown",
   "id": "11713483-0ad6-429e-8737-44990a3746a2",
   "metadata": {},
   "source": [
    "### After that, we encode the tokenize input sequences into numerical IDs using the tokenizer's vocabulary."
   ]
  },
  {
   "cell_type": "code",
   "execution_count": 14,
   "id": "88c6bb01-d864-49db-be47-c32e34a220cf",
   "metadata": {},
   "outputs": [
    {
     "name": "stdout",
     "output_type": "stream",
     "text": [
      "                                        reviews.text  \\\n",
      "0  I thought it would be as big as small paper bu...   \n",
      "1  This kindle is light and easy to use especiall...   \n",
      "2  Didnt know how much i'd use a kindle so went f...   \n",
      "3  I am 100 happy with my purchase. I caught it o...   \n",
      "4  Solid entry level Kindle. Great for kids. Gift...   \n",
      "\n",
      "                                     encoded_reviews  \n",
      "0  [101, 1045, 2245, 2009, 2052, 2022, 2004, 2502...  \n",
      "1  [101, 2023, 2785, 2571, 2003, 2422, 1998, 3733...  \n",
      "2  [101, 2134, 2102, 2113, 2129, 2172, 1045, 1005...  \n",
      "3  [101, 1045, 2572, 2531, 3407, 2007, 2026, 5309...  \n",
      "4  [101, 5024, 4443, 2504, 2785, 2571, 1012, 2307...  \n"
     ]
    }
   ],
   "source": [
    "tokenizer = AutoTokenizer.from_pretrained(\"distilbert-base-uncased\")\n",
    "\n",
    "def encode_text(text):\n",
    "    if isinstance(text, str):\n",
    "        tokens = tokenizer(text, truncation=True, padding=\"max_length\", max_length=128, return_tensors=\"pt\")\n",
    "        return tokens[\"input_ids\"].squeeze().tolist()  # Convert tensor to list\n",
    "    return []\n",
    "\n",
    "df[\"encoded_reviews\"] = df[\"reviews.text\"].apply(encode_text)\n",
    "\n",
    "df.to_csv(\"encoded_reviews.csv\", index=False)\n",
    "print(df[[\"reviews.text\", \"encoded_reviews\"]].head())"
   ]
  },
  {
   "cell_type": "markdown",
   "id": "c362fd21-da26-48bb-b39d-271b1d0dc6ef",
   "metadata": {},
   "source": [
    "### Finally, we inplement the sentiment into the data set with it's calculations. "
   ]
  },
  {
   "cell_type": "code",
   "execution_count": 21,
   "id": "e2923987-b1fd-4898-ba1d-3560fdba0b8f",
   "metadata": {},
   "outputs": [],
   "source": [
    "df.to_csv(\"Transformer_Sentiment_Results.csv\")"
   ]
  },
  {
   "cell_type": "code",
   "execution_count": 23,
   "id": "c9a3a9ed-1129-4b4a-9cc3-14e538ebc80c",
   "metadata": {},
   "outputs": [
    {
     "name": "stdout",
     "output_type": "stream",
     "text": [
      "                                        reviews.text  \\\n",
      "0  I thought it would be as big as small paper bu...   \n",
      "1  This kindle is light and easy to use especiall...   \n",
      "2  Didnt know how much i'd use a kindle so went f...   \n",
      "3  I am 100 happy with my purchase. I caught it o...   \n",
      "4  Solid entry level Kindle. Great for kids. Gift...   \n",
      "\n",
      "                                   tokenized_reviews  \n",
      "0  [101, 1045, 2245, 2009, 2052, 2022, 2004, 2502...  \n",
      "1  [101, 2023, 2785, 2571, 2003, 2422, 1998, 3733...  \n",
      "2  [101, 2134, 2102, 2113, 2129, 2172, 1045, 1005...  \n",
      "3  [101, 1045, 2572, 2531, 3407, 2007, 2026, 5309...  \n",
      "4  [101, 5024, 4443, 2504, 2785, 2571, 1012, 2307...  \n"
     ]
    }
   ],
   "source": [
    "tokenizer = AutoTokenizer.from_pretrained(\"distilbert-base-uncased\")\n",
    "\n",
    "# Function to tokenize text using the DistilBERT tokenizer\n",
    "def tokenize_text(text):\n",
    "    if isinstance(text, str):\n",
    "        return tokenizer.encode(text, truncation=True, padding=\"max_length\", max_length=128)\n",
    "    return []\n",
    "\n",
    "# Apply tokenization to the review text column\n",
    "df[\"tokenized_reviews\"] = df[\"reviews.text\"].apply(tokenize_text)\n",
    "\n",
    "# Save and inspect the results\n",
    "df.to_csv(\"tokenized_reviews.csv\", index=False)  # Save tokenized data\n",
    "print(df[[\"reviews.text\", \"tokenized_reviews\"]].head())  # Print first few rows for verification"
   ]
  },
  {
   "cell_type": "markdown",
   "id": "6513e2ae-14b2-4801-ba06-ba27980ed4e0",
   "metadata": {},
   "source": [
    "### trianing model"
   ]
  },
  {
   "cell_type": "code",
   "execution_count": 26,
   "id": "e0f6a797-e73d-4fb5-860d-fc70f7235e13",
   "metadata": {},
   "outputs": [
    {
     "name": "stderr",
     "output_type": "stream",
     "text": [
      "Some weights of BertForSequenceClassification were not initialized from the model checkpoint at bert-base-uncased and are newly initialized: ['classifier.bias', 'classifier.weight']\n",
      "You should probably TRAIN this model on a down-stream task to be able to use it for predictions and inference.\n"
     ]
    },
    {
     "data": {
      "application/vnd.jupyter.widget-view+json": {
       "model_id": "1ac0f93b62164f599e0deae13befe81f",
       "version_major": 2,
       "version_minor": 0
      },
      "text/plain": [
       "Map:   0%|          | 0/4000 [00:00<?, ? examples/s]"
      ]
     },
     "metadata": {},
     "output_type": "display_data"
    },
    {
     "data": {
      "application/vnd.jupyter.widget-view+json": {
       "model_id": "4bf06391fb164f42af99c9403ce1f11e",
       "version_major": 2,
       "version_minor": 0
      },
      "text/plain": [
       "Map:   0%|          | 0/1000 [00:00<?, ? examples/s]"
      ]
     },
     "metadata": {},
     "output_type": "display_data"
    },
    {
     "name": "stderr",
     "output_type": "stream",
     "text": [
      "2025/01/31 01:09:31 WARNING mlflow.utils.git_utils: Failed to import Git (the Git executable is probably not on your PATH), so Git SHA is not available. Error: Failed to initialize: Bad git executable.\n",
      "The git executable must be specified in one of the following ways:\n",
      "    - be included in your $PATH\n",
      "    - be set via $GIT_PYTHON_GIT_EXECUTABLE\n",
      "    - explicitly set via git.refresh(<full-path-to-git-executable>)\n",
      "\n",
      "All git commands will error until this is rectified.\n",
      "\n",
      "This initial message can be silenced or aggravated in the future by setting the\n",
      "$GIT_PYTHON_REFRESH environment variable. Use one of the following values:\n",
      "    - quiet|q|silence|s|silent|none|n|0: for no message or exception\n",
      "    - warn|w|warning|log|l|1: for a warning message (logging level CRITICAL, displayed by default)\n",
      "    - error|e|exception|raise|r|2: for a raised exception\n",
      "\n",
      "Example:\n",
      "    export GIT_PYTHON_REFRESH=quiet\n",
      "\n"
     ]
    },
    {
     "data": {
      "text/html": [
       "\n",
       "    <div>\n",
       "      \n",
       "      <progress value='125' max='125' style='width:300px; height:20px; vertical-align: middle;'></progress>\n",
       "      [125/125 50:58, Epoch 1/1]\n",
       "    </div>\n",
       "    <table border=\"1\" class=\"dataframe\">\n",
       "  <thead>\n",
       " <tr style=\"text-align: left;\">\n",
       "      <th>Epoch</th>\n",
       "      <th>Training Loss</th>\n",
       "      <th>Validation Loss</th>\n",
       "    </tr>\n",
       "  </thead>\n",
       "  <tbody>\n",
       "    <tr>\n",
       "      <td>1</td>\n",
       "      <td>0.180700</td>\n",
       "      <td>0.133319</td>\n",
       "    </tr>\n",
       "  </tbody>\n",
       "</table><p>"
      ],
      "text/plain": [
       "<IPython.core.display.HTML object>"
      ]
     },
     "metadata": {},
     "output_type": "display_data"
    },
    {
     "data": {
      "text/plain": [
       "('fine_tuned_bert\\\\tokenizer_config.json',\n",
       " 'fine_tuned_bert\\\\special_tokens_map.json',\n",
       " 'fine_tuned_bert\\\\vocab.txt',\n",
       " 'fine_tuned_bert\\\\added_tokens.json',\n",
       " 'fine_tuned_bert\\\\tokenizer.json')"
      ]
     },
     "execution_count": 26,
     "metadata": {},
     "output_type": "execute_result"
    }
   ],
   "source": [
    "from transformers import AutoTokenizer, AutoModelForSequenceClassification, Trainer, TrainingArguments\n",
    "from datasets import Dataset\n",
    "from sklearn.model_selection import train_test_split\n",
    "import pandas as pd\n",
    "\n",
    "df = df[['reviews.text', 'reviews.rating']].dropna()\n",
    "\n",
    "df['label'] = df['reviews.rating'].apply(lambda x: 1 if x >= 4 else 0)\n",
    "\n",
    "train_texts, test_texts, train_labels, test_labels = train_test_split(\n",
    "    df['reviews.text'], df['label'], test_size=0.2, random_state=42\n",
    ")\n",
    "\n",
    "train_data = Dataset.from_dict({'text': train_texts.tolist(), 'label': train_labels.tolist()})\n",
    "test_data = Dataset.from_dict({'text': test_texts.tolist(), 'label': test_labels.tolist()})\n",
    "\n",
    "model_name = \"bert-base-uncased\"\n",
    "tokenizer = AutoTokenizer.from_pretrained(model_name)\n",
    "model = AutoModelForSequenceClassification.from_pretrained(model_name, num_labels=2)\n",
    "\n",
    "def tokenize_function(examples):\n",
    "    return tokenizer(examples[\"text\"], truncation=True, padding=\"max_length\", max_length=128)\n",
    "\n",
    "train_data = train_data.map(tokenize_function, batched=True)\n",
    "test_data = test_data.map(tokenize_function, batched=True)\n",
    "\n",
    "training_args = TrainingArguments(\n",
    "    output_dir=\"./bert_sentiment\",\n",
    "    eval_strategy=\"epoch\",\n",
    "    save_strategy=\"epoch\",\n",
    "    per_device_train_batch_size=32, \n",
    "    per_device_eval_batch_size=32,\n",
    "    num_train_epochs=1, \n",
    "    weight_decay=0.01,\n",
    "    logging_dir=\"./logs\",\n",
    "    logging_steps=10,\n",
    "    load_best_model_at_end=True,\n",
    "    metric_for_best_model=\"eval_loss\",\n",
    "    greater_is_better=False,\n",
    "    warmup_ratio=0.1, \n",
    "    lr_scheduler_type=\"linear\", \n",
    "    fp16=True, \n",
    ")\n",
    "\n",
    "trainer = Trainer(\n",
    "    model=model,\n",
    "    args=training_args,\n",
    "    train_dataset=train_data,\n",
    "    eval_dataset=test_data,\n",
    "    tokenizer=tokenizer\n",
    ")\n",
    "\n",
    "from transformers import EarlyStoppingCallback\n",
    "trainer.add_callback(EarlyStoppingCallback(\n",
    "    early_stopping_patience=2, \n",
    "    early_stopping_threshold=0.01\n",
    "))\n",
    "\n",
    "trainer.train()\n",
    "\n",
    "model.save_pretrained(\"fine_tuned_bert\")\n",
    "tokenizer.save_pretrained(\"fine_tuned_bert\")"
   ]
  },
  {
   "cell_type": "markdown",
   "id": "af23153e-334d-4f4e-b1d2-52016b2703ad",
   "metadata": {},
   "source": [
    "### Acuracy and losses and model."
   ]
  },
  {
   "cell_type": "code",
   "execution_count": 28,
   "id": "d5e96a8c-0b41-4be7-8d49-0e014518f63e",
   "metadata": {},
   "outputs": [
    {
     "data": {
      "image/png": "[encoded data removed]",
      "text/plain": [
       "<Figure size 1000x500 with 1 Axes>"
      ]
     },
     "metadata": {},
     "output_type": "display_data"
    },
    {
     "name": "stdout",
     "output_type": "stream",
     "text": [
      "No evaluation accuracy logged. Ensure `compute_metrics` is enabled in Trainer.\n"
     ]
    }
   ],
   "source": [
    "import matplotlib.pyplot as plt\n",
    "import numpy as np\n",
    "\n",
    "\n",
    "if \"trainer\" in globals() and hasattr(trainer, \"state\"):\n",
    "    train_logs = trainer.state.log_history\n",
    "\n",
    "    train_loss = [log[\"loss\"] for log in train_logs if \"loss\" in log]\n",
    "    eval_loss = [log[\"eval_loss\"] for log in train_logs if \"eval_loss\" in log]\n",
    "    eval_accuracy = [log[\"eval_accuracy\"] for log in train_logs if \"eval_accuracy\" in log]\n",
    "\n",
    "    epochs = np.arange(1, len(train_loss) + 1)\n",
    "\n",
    "\n",
    "    plt.figure(figsize=(10, 5))\n",
    "    plt.plot(epochs, train_loss, label=\"Training Loss\", marker=\"o\")\n",
    "    if eval_loss:\n",
    "        plt.plot(epochs[:len(eval_loss)], eval_loss, label=\"Evaluation Loss\", marker=\"s\", linestyle=\"dashed\")\n",
    "    plt.xlabel(\"Epochs\")\n",
    "    plt.ylabel(\"Loss\")\n",
    "    plt.title(\"Training & Evaluation Loss Over Epochs\")\n",
    "    plt.legend()\n",
    "    plt.show()\n",
    "\n",
    "\n",
    "    if eval_accuracy:\n",
    "        plt.figure(figsize=(10, 5))\n",
    "        plt.plot(epochs[:len(eval_accuracy)], eval_accuracy, label=\"Evaluation Accuracy\", marker=\"d\", color=\"green\")\n",
    "        plt.xlabel(\"Epochs\")\n",
    "        plt.ylabel(\"Accuracy\")\n",
    "        plt.title(\"Evaluation Accuracy Over Epochs\")\n",
    "        plt.legend()\n",
    "        plt.show()\n",
    "    else:\n",
    "        print(\"No evaluation accuracy logged. Ensure `compute_metrics` is enabled in Trainer.\")\n",
    "else:\n",
    "    print(\"Trainer not found. Run `trainer.train()` first before plotting.\")"
   ]
  },
  {
   "cell_type": "code",
   "execution_count": null,
   "id": "3951da08-8263-4dab-9ab1-e8af07ecab57",
   "metadata": {},
   "outputs": [],
   "source": []
  }
 ],
 "metadata": {
  "kernelspec": {
   "display_name": "Python 3 (ipykernel)",
   "language": "python",
   "name": "python3"
  },
  "language_info": {
   "codemirror_mode": {
    "name": "ipython",
    "version": 3
   },
   "file_extension": ".py",
   "mimetype": "text/x-python",
   "name": "python",
   "nbconvert_exporter": "python",
   "pygments_lexer": "ipython3",
   "version": "3.12.7"
  }
 },
 "nbformat": 4,
 "nbformat_minor": 5
}
