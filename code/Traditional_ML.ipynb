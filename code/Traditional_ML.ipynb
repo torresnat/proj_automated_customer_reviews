{
 "cells": [
  {
   "cell_type": "markdown",
   "id": "b7d2e146-4564-4de6-a88c-2f691e30bef8",
   "metadata": {},
   "source": [
    "## Traditional NLP & ML approach\n",
    "\n",
    "### Dataset download and Imports"
   ]
  },
  {
   "cell_type": "code",
   "execution_count": 7,
   "id": "5ba152f9-bc8e-4fd5-ba83-64f750932dd3",
   "metadata": {},
   "outputs": [
    {
     "name": "stdout",
     "output_type": "stream",
     "text": [
      "Downloading from https://www.kaggle.com/api/v1/datasets/download/datafiniti/consumer-reviews-of-amazon-products?dataset_version_number=5...\n"
     ]
    },
    {
     "name": "stderr",
     "output_type": "stream",
     "text": [
      "100%|██████████| 16.3M/16.3M [00:06<00:00, 2.68MB/s]"
     ]
    },
    {
     "name": "stdout",
     "output_type": "stream",
     "text": [
      "Extracting files...\n"
     ]
    },
    {
     "name": "stderr",
     "output_type": "stream",
     "text": [
      "\n"
     ]
    },
    {
     "name": "stdout",
     "output_type": "stream",
     "text": [
      "Path to dataset files: C:\\Users\\dylan\\.cache\\kagglehub\\datasets\\datafiniti\\consumer-reviews-of-amazon-products\\versions\\5\n"
     ]
    }
   ],
   "source": [
    "import kagglehub\n",
    "\n",
    "# Download latest version\n",
    "path = kagglehub.dataset_download(\"datafiniti/consumer-reviews-of-amazon-products\")\n",
    "\n",
    "print(\"Path to dataset files:\", path)"
   ]
  },
  {
   "cell_type": "code",
   "execution_count": 259,
   "id": "0f2c0c61-42af-4137-bdbb-358626904c6e",
   "metadata": {},
   "outputs": [],
   "source": [
    "# Imports\n",
    "import pandas as pd\n",
    "import numpy as np\n",
    "import re\n",
    "import nltk\n",
    "import xgboost as xgb\n",
    "import joblib\n",
    "import matplotlib.pyplot as plt\n",
    "import seaborn as sns\n",
    "\n",
    "from nltk.corpus import stopwords\n",
    "from nltk.tokenize import word_tokenize\n",
    "from nltk.stem import WordNetLemmatizer\n",
    "\n",
    "from sklearn.metrics import confusion_matrix, ConfusionMatrixDisplay\n",
    "from sklearn.preprocessing import LabelEncoder\n",
    "from sklearn.model_selection import cross_val_score, GridSearchCV, train_test_split\n",
    "from sklearn.feature_extraction.text import TfidfVectorizer\n",
    "from sklearn.naive_bayes import MultinomialNB\n",
    "from sklearn.linear_model import LogisticRegression\n",
    "from sklearn.svm import SVC\n",
    "from sklearn.ensemble import RandomForestClassifier\n",
    "from sklearn.metrics import classification_report, accuracy_score\n",
    "from sklearn.feature_extraction.text import CountVectorizer"
   ]
  },
  {
   "cell_type": "markdown",
   "id": "fd70b00e-5ec3-4747-a749-e6aeddf8e116",
   "metadata": {},
   "source": [
    "#### Exploratory Data Analisys"
   ]
  },
  {
   "cell_type": "code",
   "execution_count": 172,
   "id": "0c24afed-a96b-46e9-b947-54cb2637828f",
   "metadata": {},
   "outputs": [],
   "source": [
    "data = pd.read_csv('Datafiniti_Amazon_Consumer_Reviews_of_Amazon_Products.csv')"
   ]
  },
  {
   "cell_type": "code",
   "execution_count": 174,
   "id": "7756e2b4-0260-4e0f-ad87-a00d6f734220",
   "metadata": {},
   "outputs": [
    {
     "name": "stdout",
     "output_type": "stream",
     "text": [
      "<class 'pandas.core.frame.DataFrame'>\n",
      "RangeIndex: 5000 entries, 0 to 4999\n",
      "Data columns (total 24 columns):\n",
      " #   Column               Non-Null Count  Dtype  \n",
      "---  ------               --------------  -----  \n",
      " 0   id                   5000 non-null   object \n",
      " 1   dateAdded            5000 non-null   object \n",
      " 2   dateUpdated          5000 non-null   object \n",
      " 3   name                 5000 non-null   object \n",
      " 4   asins                5000 non-null   object \n",
      " 5   brand                5000 non-null   object \n",
      " 6   categories           5000 non-null   object \n",
      " 7   primaryCategories    5000 non-null   object \n",
      " 8   imageURLs            5000 non-null   object \n",
      " 9   keys                 5000 non-null   object \n",
      " 10  manufacturer         5000 non-null   object \n",
      " 11  manufacturerNumber   5000 non-null   object \n",
      " 12  reviews.date         5000 non-null   object \n",
      " 13  reviews.dateAdded    1052 non-null   object \n",
      " 14  reviews.dateSeen     5000 non-null   object \n",
      " 15  reviews.doRecommend  5000 non-null   bool   \n",
      " 16  reviews.id           29 non-null     float64\n",
      " 17  reviews.numHelpful   5000 non-null   int64  \n",
      " 18  reviews.rating       5000 non-null   int64  \n",
      " 19  reviews.sourceURLs   5000 non-null   object \n",
      " 20  reviews.text         5000 non-null   object \n",
      " 21  reviews.title        4987 non-null   object \n",
      " 22  reviews.username     4999 non-null   object \n",
      " 23  sourceURLs           5000 non-null   object \n",
      "dtypes: bool(1), float64(1), int64(2), object(20)\n",
      "memory usage: 903.4+ KB\n"
     ]
    }
   ],
   "source": [
    "data.info()"
   ]
  },
  {
   "cell_type": "code",
   "execution_count": 176,
   "id": "2994ac88-23e7-4358-9d95-6d8775fd254c",
   "metadata": {},
   "outputs": [],
   "source": [
    "# Remove id, reviews.dateAdded, dateUpdated, imageURLs, Keys, reviews.sourceURLs, reviews.id, brand,\n",
    "# manufacturer, reviews.dateSeen, categories, sourceURLs\n",
    "\n",
    "data.drop(columns=['id', 'dateAdded', \"reviews.dateAdded\", 'dateUpdated', 'imageURLs', 'keys', 'reviews.sourceURLs', 'reviews.id', 'brand', 'manufacturer', 'reviews.dateSeen', 'categories', 'sourceURLs'], inplace=True)"
   ]
  },
  {
   "cell_type": "code",
   "execution_count": 178,
   "id": "a51a9375-1b42-4173-8ae1-4f1ffa85261b",
   "metadata": {},
   "outputs": [
    {
     "name": "stdout",
     "output_type": "stream",
     "text": [
      "<class 'pandas.core.frame.DataFrame'>\n",
      "RangeIndex: 5000 entries, 0 to 4999\n",
      "Data columns (total 11 columns):\n",
      " #   Column               Non-Null Count  Dtype \n",
      "---  ------               --------------  ----- \n",
      " 0   name                 5000 non-null   object\n",
      " 1   asins                5000 non-null   object\n",
      " 2   primaryCategories    5000 non-null   object\n",
      " 3   manufacturerNumber   5000 non-null   object\n",
      " 4   reviews.date         5000 non-null   object\n",
      " 5   reviews.doRecommend  5000 non-null   bool  \n",
      " 6   reviews.numHelpful   5000 non-null   int64 \n",
      " 7   reviews.rating       5000 non-null   int64 \n",
      " 8   reviews.text         5000 non-null   object\n",
      " 9   reviews.title        4987 non-null   object\n",
      " 10  reviews.username     4999 non-null   object\n",
      "dtypes: bool(1), int64(2), object(8)\n",
      "memory usage: 395.6+ KB\n"
     ]
    }
   ],
   "source": [
    "data.info()"
   ]
  },
  {
   "cell_type": "code",
   "execution_count": 180,
   "id": "cef16b06-4efb-4f85-8625-179f688bcf82",
   "metadata": {},
   "outputs": [
    {
     "name": "stderr",
     "output_type": "stream",
     "text": [
      "C:\\Users\\dylan\\AppData\\Local\\Temp\\ipykernel_38068\\3990750170.py:2: FutureWarning: A value is trying to be set on a copy of a DataFrame or Series through chained assignment using an inplace method.\n",
      "The behavior will change in pandas 3.0. This inplace method will never work because the intermediate object on which we are setting values always behaves as a copy.\n",
      "\n",
      "For example, when doing 'df[col].method(value, inplace=True)', try using 'df.method({col: value}, inplace=True)' or df[col] = df[col].method(value) instead, to perform the operation inplace on the original object.\n",
      "\n",
      "\n",
      "  data['reviews.username'].fillna('anonymous', inplace=True)\n",
      "C:\\Users\\dylan\\AppData\\Local\\Temp\\ipykernel_38068\\3990750170.py:3: FutureWarning: A value is trying to be set on a copy of a DataFrame or Series through chained assignment using an inplace method.\n",
      "The behavior will change in pandas 3.0. This inplace method will never work because the intermediate object on which we are setting values always behaves as a copy.\n",
      "\n",
      "For example, when doing 'df[col].method(value, inplace=True)', try using 'df.method({col: value}, inplace=True)' or df[col] = df[col].method(value) instead, to perform the operation inplace on the original object.\n",
      "\n",
      "\n",
      "  data['reviews.title'].fillna('review', inplace=True)\n"
     ]
    }
   ],
   "source": [
    "# Now we fill the missing values\n",
    "data['reviews.username'].fillna('anonymous', inplace=True)\n",
    "data['reviews.title'].fillna('review', inplace=True)"
   ]
  },
  {
   "cell_type": "code",
   "execution_count": 182,
   "id": "caabd01c-4b09-4611-9703-985f011d0a92",
   "metadata": {},
   "outputs": [
    {
     "data": {
      "text/html": [
       "<div>\n",
       "<style scoped>\n",
       "    .dataframe tbody tr th:only-of-type {\n",
       "        vertical-align: middle;\n",
       "    }\n",
       "\n",
       "    .dataframe tbody tr th {\n",
       "        vertical-align: top;\n",
       "    }\n",
       "\n",
       "    .dataframe thead th {\n",
       "        text-align: right;\n",
       "    }\n",
       "</style>\n",
       "<table border=\"1\" class=\"dataframe\">\n",
       "  <thead>\n",
       "    <tr style=\"text-align: right;\">\n",
       "      <th></th>\n",
       "      <th>name</th>\n",
       "      <th>asins</th>\n",
       "      <th>primaryCategories</th>\n",
       "      <th>manufacturerNumber</th>\n",
       "      <th>reviews.date</th>\n",
       "      <th>reviews.doRecommend</th>\n",
       "      <th>reviews.numHelpful</th>\n",
       "      <th>reviews.rating</th>\n",
       "      <th>reviews.text</th>\n",
       "      <th>reviews.title</th>\n",
       "      <th>reviews.username</th>\n",
       "    </tr>\n",
       "  </thead>\n",
       "  <tbody>\n",
       "    <tr>\n",
       "      <th>0</th>\n",
       "      <td>Amazon Kindle E-Reader 6\" Wifi (8th Generation...</td>\n",
       "      <td>B00ZV9PXP2</td>\n",
       "      <td>Electronics</td>\n",
       "      <td>B00ZV9PXP2</td>\n",
       "      <td>2017-09-03T00:00:00.000Z</td>\n",
       "      <td>False</td>\n",
       "      <td>0</td>\n",
       "      <td>3</td>\n",
       "      <td>I thought it would be as big as small paper bu...</td>\n",
       "      <td>Too small</td>\n",
       "      <td>llyyue</td>\n",
       "    </tr>\n",
       "    <tr>\n",
       "      <th>1</th>\n",
       "      <td>Amazon Kindle E-Reader 6\" Wifi (8th Generation...</td>\n",
       "      <td>B00ZV9PXP2</td>\n",
       "      <td>Electronics</td>\n",
       "      <td>B00ZV9PXP2</td>\n",
       "      <td>2017-06-06T00:00:00.000Z</td>\n",
       "      <td>True</td>\n",
       "      <td>0</td>\n",
       "      <td>5</td>\n",
       "      <td>This kindle is light and easy to use especiall...</td>\n",
       "      <td>Great light reader. Easy to use at the beach</td>\n",
       "      <td>Charmi</td>\n",
       "    </tr>\n",
       "    <tr>\n",
       "      <th>2</th>\n",
       "      <td>Amazon Kindle E-Reader 6\" Wifi (8th Generation...</td>\n",
       "      <td>B00ZV9PXP2</td>\n",
       "      <td>Electronics</td>\n",
       "      <td>B00ZV9PXP2</td>\n",
       "      <td>2018-04-20T00:00:00.000Z</td>\n",
       "      <td>True</td>\n",
       "      <td>0</td>\n",
       "      <td>4</td>\n",
       "      <td>Didnt know how much i'd use a kindle so went f...</td>\n",
       "      <td>Great for the price</td>\n",
       "      <td>johnnyjojojo</td>\n",
       "    </tr>\n",
       "    <tr>\n",
       "      <th>3</th>\n",
       "      <td>Amazon Kindle E-Reader 6\" Wifi (8th Generation...</td>\n",
       "      <td>B00ZV9PXP2</td>\n",
       "      <td>Electronics</td>\n",
       "      <td>B00ZV9PXP2</td>\n",
       "      <td>2017-11-02T17:33:31.000Z</td>\n",
       "      <td>True</td>\n",
       "      <td>3</td>\n",
       "      <td>5</td>\n",
       "      <td>I am 100 happy with my purchase. I caught it o...</td>\n",
       "      <td>A Great Buy</td>\n",
       "      <td>Kdperry</td>\n",
       "    </tr>\n",
       "    <tr>\n",
       "      <th>4</th>\n",
       "      <td>Amazon Kindle E-Reader 6\" Wifi (8th Generation...</td>\n",
       "      <td>B00ZV9PXP2</td>\n",
       "      <td>Electronics</td>\n",
       "      <td>B00ZV9PXP2</td>\n",
       "      <td>2018-04-24T00:00:00.000Z</td>\n",
       "      <td>True</td>\n",
       "      <td>0</td>\n",
       "      <td>5</td>\n",
       "      <td>Solid entry level Kindle. Great for kids. Gift...</td>\n",
       "      <td>Solid entry-level Kindle. Great for kids</td>\n",
       "      <td>Johnnyblack</td>\n",
       "    </tr>\n",
       "  </tbody>\n",
       "</table>\n",
       "</div>"
      ],
      "text/plain": [
       "                                                name       asins  \\\n",
       "0  Amazon Kindle E-Reader 6\" Wifi (8th Generation...  B00ZV9PXP2   \n",
       "1  Amazon Kindle E-Reader 6\" Wifi (8th Generation...  B00ZV9PXP2   \n",
       "2  Amazon Kindle E-Reader 6\" Wifi (8th Generation...  B00ZV9PXP2   \n",
       "3  Amazon Kindle E-Reader 6\" Wifi (8th Generation...  B00ZV9PXP2   \n",
       "4  Amazon Kindle E-Reader 6\" Wifi (8th Generation...  B00ZV9PXP2   \n",
       "\n",
       "  primaryCategories manufacturerNumber              reviews.date  \\\n",
       "0       Electronics         B00ZV9PXP2  2017-09-03T00:00:00.000Z   \n",
       "1       Electronics         B00ZV9PXP2  2017-06-06T00:00:00.000Z   \n",
       "2       Electronics         B00ZV9PXP2  2018-04-20T00:00:00.000Z   \n",
       "3       Electronics         B00ZV9PXP2  2017-11-02T17:33:31.000Z   \n",
       "4       Electronics         B00ZV9PXP2  2018-04-24T00:00:00.000Z   \n",
       "\n",
       "   reviews.doRecommend  reviews.numHelpful  reviews.rating  \\\n",
       "0                False                   0               3   \n",
       "1                 True                   0               5   \n",
       "2                 True                   0               4   \n",
       "3                 True                   3               5   \n",
       "4                 True                   0               5   \n",
       "\n",
       "                                        reviews.text  \\\n",
       "0  I thought it would be as big as small paper bu...   \n",
       "1  This kindle is light and easy to use especiall...   \n",
       "2  Didnt know how much i'd use a kindle so went f...   \n",
       "3  I am 100 happy with my purchase. I caught it o...   \n",
       "4  Solid entry level Kindle. Great for kids. Gift...   \n",
       "\n",
       "                                  reviews.title reviews.username  \n",
       "0                                     Too small           llyyue  \n",
       "1  Great light reader. Easy to use at the beach           Charmi  \n",
       "2                           Great for the price     johnnyjojojo  \n",
       "3                                   A Great Buy          Kdperry  \n",
       "4      Solid entry-level Kindle. Great for kids      Johnnyblack  "
      ]
     },
     "execution_count": 182,
     "metadata": {},
     "output_type": "execute_result"
    }
   ],
   "source": [
    "data.head()"
   ]
  },
  {
   "cell_type": "code",
   "execution_count": 184,
   "id": "10d4a2fc-69d5-4609-9e24-34c44ba1368b",
   "metadata": {},
   "outputs": [],
   "source": [
    "data['reviews.date'] = pd.to_datetime(data['reviews.date']).dt.date"
   ]
  },
  {
   "cell_type": "code",
   "execution_count": 186,
   "id": "1345a755-990b-41b9-a10d-67da8b1cc84a",
   "metadata": {},
   "outputs": [
    {
     "name": "stdout",
     "output_type": "stream",
     "text": [
      "<class 'pandas.core.frame.DataFrame'>\n",
      "RangeIndex: 5000 entries, 0 to 4999\n",
      "Data columns (total 11 columns):\n",
      " #   Column               Non-Null Count  Dtype \n",
      "---  ------               --------------  ----- \n",
      " 0   name                 5000 non-null   object\n",
      " 1   asins                5000 non-null   object\n",
      " 2   primaryCategories    5000 non-null   object\n",
      " 3   manufacturerNumber   5000 non-null   object\n",
      " 4   reviews.date         5000 non-null   object\n",
      " 5   reviews.doRecommend  5000 non-null   bool  \n",
      " 6   reviews.numHelpful   5000 non-null   int64 \n",
      " 7   reviews.rating       5000 non-null   int64 \n",
      " 8   reviews.text         5000 non-null   object\n",
      " 9   reviews.title        5000 non-null   object\n",
      " 10  reviews.username     5000 non-null   object\n",
      "dtypes: bool(1), int64(2), object(8)\n",
      "memory usage: 395.6+ KB\n"
     ]
    }
   ],
   "source": [
    "data.info()"
   ]
  },
  {
   "cell_type": "code",
   "execution_count": 188,
   "id": "2a50c3be-8ebf-4409-8975-779c30704f78",
   "metadata": {},
   "outputs": [],
   "source": [
    "def classify_sentiment(rating):\n",
    "    if rating in [1, 2, 3]:\n",
    "        return 'Negative'\n",
    "    elif rating == 4:\n",
    "        return 'Neutral'\n",
    "    elif rating == 5:\n",
    "        return 'Positive'\n",
    "\n",
    "data['sentiment'] = data['reviews.rating'].apply(classify_sentiment)"
   ]
  },
  {
   "cell_type": "markdown",
   "id": "30e1faa7-8927-4bc2-b818-aa4f9b190d8c",
   "metadata": {},
   "source": [
    "### 1. Data Preprocessing\n",
    "#### 1.1 Data Cleaning\n",
    "- Remove special characters, punctuation, and unnecessary whitespace from the text data.\n",
    "- Convert text to lowercase to ensure consistency in word representations.\n",
    "#### 1.2 Tokenization and Lemmatization\n",
    "\n",
    "- Tokenize the text data to break it into individual words or tokens.\n",
    "- Apply lemmatization to reduce words to their base or root form for better feature representation."
   ]
  },
  {
   "cell_type": "code",
   "execution_count": 191,
   "id": "a2bc6237-728e-431b-ac61-1a615f2ba2bb",
   "metadata": {},
   "outputs": [
    {
     "name": "stdout",
     "output_type": "stream",
     "text": [
      "                                        reviews.text  \\\n",
      "0  I thought it would be as big as small paper bu...   \n",
      "1  This kindle is light and easy to use especiall...   \n",
      "2  Didnt know how much i'd use a kindle so went f...   \n",
      "3  I am 100 happy with my purchase. I caught it o...   \n",
      "4  Solid entry level Kindle. Great for kids. Gift...   \n",
      "\n",
      "                                        cleaned_text  \n",
      "0  thought would big small paper turn like palm t...  \n",
      "1             kindle light easy use especially beach  \n",
      "2  didnt know much id use kindle went lower end i...  \n",
      "3  happy purchase caught sale really good price n...  \n",
      "4  solid entry level kindle great kid gifted kid ...  \n"
     ]
    }
   ],
   "source": [
    "# Initialize lemmatizer and stopwords\n",
    "lemmatizer = WordNetLemmatizer()\n",
    "stop_words = set(stopwords.words('english'))\n",
    "\n",
    "def preprocess_text(text):\n",
    "    # Convert to lowercase\n",
    "    text = text.lower()\n",
    "    # Remove punctuation and special characters\n",
    "    text = re.sub(r'[^a-zA-Z\\s]', '', text)\n",
    "    # Tokenization\n",
    "    tokens = word_tokenize(text)\n",
    "    # Remove stopwords and lemmatize\n",
    "    tokens = [lemmatizer.lemmatize(word) for word in tokens if word not in stop_words]\n",
    "    # Join tokens back into a single string\n",
    "    return ' '.join(tokens)\n",
    "\n",
    "# Apply preprocessing to the reviews.text column\n",
    "data['cleaned_text'] = data['reviews.text'].apply(preprocess_text)\n",
    "\n",
    "# Display sample results\n",
    "print(data[['reviews.text', 'cleaned_text']].head())"
   ]
  },
  {
   "cell_type": "markdown",
   "id": "12a9f356-d5f7-4621-af51-308febe0395e",
   "metadata": {},
   "source": [
    "#### 1.3 Vectorization\n",
    "\n",
    "- Use techniques such as CountVectorizer or TF-IDF Vectorizer to convert text data into numerical vectors.\n",
    "- Create a document-term matrix representing the frequency of words in the corpus."
   ]
  },
  {
   "cell_type": "code",
   "execution_count": 194,
   "id": "eb8d8a98-cee7-4c3e-9731-2542a52de8ae",
   "metadata": {},
   "outputs": [],
   "source": [
    "# Prepare the features (text) and target (sentiment)\n",
    "X = data['reviews.text']  # Review text\n",
    "y = data['sentiment']  # Sentiment column (target labels)\n",
    "\n",
    "# Split data into training and test sets (80% training, 20% testing)\n",
    "X_train, X_test, y_train, y_test = train_test_split(X, y, test_size=0.2, random_state=42, stratify=y)\n",
    "\n",
    "# Vectorization using TF-IDF\n",
    "vectorizer = TfidfVectorizer(stop_words='english', max_features=5000)\n",
    "X_train_tfidf = vectorizer.fit_transform(X_train)\n",
    "X_test_tfidf = vectorizer.transform(X_test)"
   ]
  },
  {
   "cell_type": "code",
   "execution_count": 237,
   "id": "f04b0b25-1b6a-4b1b-9582-56502d91891f",
   "metadata": {},
   "outputs": [
    {
     "name": "stdout",
     "output_type": "stream",
     "text": [
      "   00  10  100  1000  1000s  105  1080  10th  10x  11  ...  äùcrestron  äú  \\\n",
      "0   0   0    0     0      0    0     0     0    0   0  ...           0   0   \n",
      "1   0   0    0     0      0    0     0     0    0   0  ...           0   0   \n",
      "2   0   0    0     0      0    0     0     0    0   0  ...           0   0   \n",
      "3   0   0    1     0      0    0     0     0    0   0  ...           0   0   \n",
      "4   0   0    0     0      0    0     0     0    0   0  ...           0   0   \n",
      "\n",
      "   äúalexa  äúbest  äúdropping  äúdual  äúshow  äúskills  äústar  äúthings  \n",
      "0        0       0           0       0       0         0       0         0  \n",
      "1        0       0           0       0       0         0       0         0  \n",
      "2        0       0           0       0       0         0       0         0  \n",
      "3        0       0           0       0       0         0       0         0  \n",
      "4        0       0           0       0       0         0       0         0  \n",
      "\n",
      "[5 rows x 5000 columns]\n"
     ]
    }
   ],
   "source": [
    "# Initialize CountVectorizer\n",
    "vectorizer = CountVectorizer(stop_words='english', max_features=5000)\n",
    "\n",
    "# Fit and transform the data into a Document-Term Matrix\n",
    "X_dtm = vectorizer.fit_transform(X)\n",
    "\n",
    "# Convert to a DataFrame\n",
    "dtm_df = pd.DataFrame(X_dtm.toarray(), columns=vectorizer.get_feature_names_out())\n",
    "\n",
    "# Display the Document-Term Matrix\n",
    "print(dtm_df.head())  # Display the first few rows"
   ]
  },
  {
   "cell_type": "markdown",
   "id": "3e170683-ebc2-4176-81a6-f6d0c7c36d39",
   "metadata": {},
   "source": [
    "### 2. Model Building\n",
    "\n",
    "### 2.1 Model Selection\n",
    "\n",
    "- Explore different machine learning algorithms for text classification, including:\n",
    "  - Naive Bayes\n",
    "  - Logistic Regression\n",
    "  - Support Vector Machines\n",
    "  - Random Forest\n",
    "- Evaluate each algorithm's performance using cross-validation and grid search for hyperparameter tuning.\n",
    "\n",
    "### 2.2 Model Training\n",
    "\n",
    "- Select the best-performing algorithm based on evaluation metrics such as accuracy, precision, recall, and F1-score.\n",
    "- Train the selected model on the preprocessed text data."
   ]
  },
  {
   "cell_type": "code",
   "execution_count": 219,
   "id": "d8859d40-77a6-473c-8b01-543df302dac3",
   "metadata": {},
   "outputs": [
    {
     "name": "stderr",
     "output_type": "stream",
     "text": [
      "C:\\Users\\dylan\\anaconda3\\Lib\\site-packages\\sklearn\\metrics\\_classification.py:1531: UndefinedMetricWarning: Precision is ill-defined and being set to 0.0 in labels with no predicted samples. Use `zero_division` parameter to control this behavior.\n",
      "  _warn_prf(average, modifier, f\"{metric.capitalize()} is\", len(result))\n",
      "C:\\Users\\dylan\\anaconda3\\Lib\\site-packages\\sklearn\\metrics\\_classification.py:1531: UndefinedMetricWarning: Precision is ill-defined and being set to 0.0 in labels with no predicted samples. Use `zero_division` parameter to control this behavior.\n",
      "  _warn_prf(average, modifier, f\"{metric.capitalize()} is\", len(result))\n",
      "C:\\Users\\dylan\\anaconda3\\Lib\\site-packages\\sklearn\\metrics\\_classification.py:1531: UndefinedMetricWarning: Precision is ill-defined and being set to 0.0 in labels with no predicted samples. Use `zero_division` parameter to control this behavior.\n",
      "  _warn_prf(average, modifier, f\"{metric.capitalize()} is\", len(result))\n"
     ]
    },
    {
     "name": "stdout",
     "output_type": "stream",
     "text": [
      "Model Performance Comparison:\n",
      "                 Model  Accuracy  Precision  Recall  F1-Score\n",
      "3        Random Forest     0.764   0.770267   0.764  0.716626\n",
      "2                  SVM     0.734   0.705361   0.734  0.680415\n",
      "1  Logistic Regression     0.732   0.711850   0.732  0.675883\n",
      "0          Naïve Bayes     0.700   0.667720   0.700  0.583436\n",
      "\n",
      "Best Model: Random Forest\n"
     ]
    }
   ],
   "source": [
    "# Define models to test\n",
    "models = {\n",
    "    \"Naïve Bayes\": MultinomialNB(),\n",
    "    \"Logistic Regression\": LogisticRegression(max_iter=1000, random_state=42),\n",
    "    \"SVM\": SVC(kernel='linear', random_state=42),\n",
    "    \"Random Forest\": RandomForestClassifier(n_estimators=100, random_state=42)\n",
    "}\n",
    "\n",
    "# Store evaluation results\n",
    "results = []\n",
    "\n",
    "# Train and evaluate each model\n",
    "for name, model in models.items():\n",
    "    model.fit(X_train_tfidf, y_train)\n",
    "    y_pred = model.predict(X_test_tfidf)\n",
    "    \n",
    "    # Get evaluation metrics\n",
    "    accuracy = accuracy_score(y_test, y_pred)\n",
    "    report = classification_report(y_test, y_pred, output_dict=True)  # Convert to dict\n",
    "    \n",
    "    # Store results\n",
    "    results.append({\n",
    "        \"Model\": name,\n",
    "        \"Accuracy\": accuracy,\n",
    "        \"Precision\": report[\"weighted avg\"][\"precision\"],\n",
    "        \"Recall\": report[\"weighted avg\"][\"recall\"],\n",
    "        \"F1-Score\": report[\"weighted avg\"][\"f1-score\"]\n",
    "    })\n",
    "\n",
    "# Convert results to a DataFrame for easy comparison\n",
    "results_df = pd.DataFrame(results).sort_values(by=\"Accuracy\", ascending=False)\n",
    "\n",
    "# Display the model performance comparison\n",
    "print(\"Model Performance Comparison:\")\n",
    "print(results_df)\n",
    "\n",
    "# Get the best model\n",
    "best_model = results_df.iloc[0][\"Model\"]\n",
    "print(f\"\\nBest Model: {best_model}\")"
   ]
  },
  {
   "cell_type": "markdown",
   "id": "f6974d12-8628-44e4-a50d-2859efc4898f",
   "metadata": {},
   "source": [
    "### 3. Model Evaluation\n",
    "\n",
    "#### 3.1 Evaluation Metrics\n",
    "\n",
    "- Evaluate the model's performance on a separate test dataset using various evaluation metrics:\n",
    "  - Accuracy: Percentage of correctly classified instances.\n",
    "  - Precision: Proportion of true positive predictions among all positive predictions.\n",
    "  - Recall: Proportion of true positive predictions among all actual positive instances.\n",
    "  - F1-score: Harmonic mean of precision and recall.\n",
    "- Calculate confusion matrix to analyze model's performance across different classes."
   ]
  },
  {
   "cell_type": "code",
   "execution_count": 248,
   "id": "5e9f92fd-a7c4-4aba-a127-0756a79014b9",
   "metadata": {},
   "outputs": [
    {
     "name": "stdout",
     "output_type": "stream",
     "text": [
      "Fitting 5 folds for each of 162 candidates, totalling 810 fits\n",
      "Best Hyperparameters: {'max_depth': 30, 'max_features': 'log2', 'min_samples_leaf': 1, 'min_samples_split': 2, 'n_estimators': 200}\n"
     ]
    }
   ],
   "source": [
    "# Define the model\n",
    "rf = RandomForestClassifier(class_weight='balanced', max_depth=30, max_features='sqrt', \n",
    "                            min_samples_leaf=1, min_samples_split=2, n_estimators=50)\n",
    "\n",
    "param_grid = {\n",
    "    'n_estimators': [50, 100, 200],\n",
    "    'max_depth': [10, 20, 30],\n",
    "    'min_samples_split': [2, 5, 10],\n",
    "    'min_samples_leaf': [1, 2, 4],\n",
    "    'max_features': ['sqrt', 'log2']  \n",
    "}\n",
    "\n",
    "# Set up the GridSearchCV\n",
    "grid_search = GridSearchCV(estimator=rf, param_grid=param_grid, cv=5, scoring='accuracy', n_jobs=-1, verbose=2)\n",
    "\n",
    "# Fit GridSearchCV\n",
    "grid_search.fit(X_train_tfidf, y_train)\n",
    "\n",
    "# Print the best hyperparameters found by GridSearchCV\n",
    "print(\"Best Hyperparameters:\", grid_search.best_params_)\n",
    "\n",
    "# Evaluate the best model\n",
    "best_rf_model = grid_search.best_estimator_\n",
    "\n",
    "# Predict on the test set\n",
    "y_pred = best_rf_model.predict(X_test_tfidf)\n",
    "\n",
    "# Evaluation Metrics\n",
    "accuracy = accuracy_score(y_test, y_pred)\n",
    "report = classification_report(y_test, y_pred)"
   ]
  },
  {
   "cell_type": "code",
   "execution_count": 256,
   "id": "97e80a6b-3044-4091-a79b-5c08d607860e",
   "metadata": {},
   "outputs": [
    {
     "name": "stdout",
     "output_type": "stream",
     "text": [
      "\n",
      "Best Random Forest Model Performance:\n",
      "Accuracy: 0.758\n",
      "Classification Report:\n",
      "              precision    recall  f1-score   support\n",
      "\n",
      "    Negative       0.86      0.19      0.31        63\n",
      "     Neutral       0.67      0.31      0.43       242\n",
      "    Positive       0.77      0.96      0.86       695\n",
      "\n",
      "    accuracy                           0.76      1000\n",
      "   macro avg       0.76      0.49      0.53      1000\n",
      "weighted avg       0.75      0.76      0.72      1000\n",
      "\n"
     ]
    }
   ],
   "source": [
    "# Print results\n",
    "print(f\"\\nBest Random Forest Model Performance:\")\n",
    "print(f\"Accuracy: {accuracy}\")\n",
    "print(f\"Classification Report:\\n{report}\")"
   ]
  },
  {
   "cell_type": "markdown",
   "id": "b2b8ddf6-0738-49ee-93cf-7e7d3b45f0fd",
   "metadata": {},
   "source": [
    "#### 3.2 Results\n",
    "\n",
    "- Model achieve an accuracy of 76% on the test dataset.\n",
    " - Precision, recall, and F1-score for each class are as follows:\n",
    " - Class Positive: Precision=77%, Recall=96%, F1-score=86%\n",
    " - Class Negative: Precision=86%, Recall=19%, F1-score=31%\n",
    " - Class Neutral: Precision=67%, Recall=31%, F1-score=43%\n",
    "- Confusion matrix showing table and graphical representations"
   ]
  },
  {
   "cell_type": "code",
   "execution_count": 262,
   "id": "8207cb28-3082-4c9e-acdb-592b349ed6b1",
   "metadata": {},
   "outputs": [
    {
     "data": {
      "image/png": "[encoded data removed]",
      "text/plain": [
       "<Figure size 600x500 with 2 Axes>"
      ]
     },
     "metadata": {},
     "output_type": "display_data"
    }
   ],
   "source": [
    "# Predict on the test set\n",
    "y_pred = best_rf_model.predict(X_test_tfidf)\n",
    "\n",
    "# Generate the confusion matrix\n",
    "cm = confusion_matrix(y_test, y_pred)\n",
    "\n",
    "# Plot the confusion matrix using seaborn\n",
    "plt.figure(figsize=(6,5))\n",
    "sns.heatmap(cm, annot=True, fmt='d', cmap='Blues', xticklabels=['Negative', 'Neutral', 'Positive'], yticklabels=['Negative', 'Neutral', 'Positive'])\n",
    "plt.xlabel('Predicted Label')\n",
    "plt.ylabel('True Label')\n",
    "plt.title('Confusion Matrix')\n",
    "plt.show()"
   ]
  },
  {
   "cell_type": "markdown",
   "id": "443de8f9-c065-4671-ae08-bb15090155f5",
   "metadata": {},
   "source": [
    "#### Cross Validation"
   ]
  },
  {
   "cell_type": "code",
   "execution_count": 226,
   "id": "e6aeb69d-2c7b-49e9-827b-101cd1272e84",
   "metadata": {},
   "outputs": [
    {
     "name": "stdout",
     "output_type": "stream",
     "text": [
      "Cross-validation scores: [0.69875 0.71875 0.74375 0.68875 0.70375]\n",
      "Mean cross-validation score: 0.7107499999999999\n"
     ]
    }
   ],
   "source": [
    "# Perform cross-validation (5-fold cross-validation)\n",
    "cv_scores = cross_val_score(rf, X_train_tfidf, y_train, cv=5, scoring='accuracy')\n",
    "\n",
    "# Print cross-validation results\n",
    "print(f\"Cross-validation scores: {cv_scores}\")\n",
    "print(f\"Mean cross-validation score: {cv_scores.mean()}\")"
   ]
  },
  {
   "cell_type": "markdown",
   "id": "ab24b3cd-1018-4e39-b35d-a8866ece6b7a",
   "metadata": {},
   "source": [
    "#### Save the model"
   ]
  },
  {
   "cell_type": "code",
   "execution_count": 232,
   "id": "a78e912a-98c4-43c0-9bed-c596ef859eb7",
   "metadata": {},
   "outputs": [
    {
     "data": {
      "text/plain": [
       "['RF_review_model.pkl']"
      ]
     },
     "execution_count": 232,
     "metadata": {},
     "output_type": "execute_result"
    }
   ],
   "source": [
    "# Save the model\n",
    "joblib.dump(best_rf_model, 'RF_review_model.pkl')"
   ]
  },
  {
   "cell_type": "markdown",
   "id": "7640b5a7-3bce-4ba6-bdc2-5c7510b3ec64",
   "metadata": {},
   "source": [
    "#### Load the model"
   ]
  },
  {
   "cell_type": "code",
   "execution_count": null,
   "id": "6358a1ca-31cf-4d84-a696-e344b1efe06a",
   "metadata": {},
   "outputs": [],
   "source": [
    "# Load the model\n",
    "loaded_model = joblib.load('random_forest_model.pkl')\n",
    "\n",
    "# Make predictions with the loaded model\n",
    "y_pred = loaded_model.predict(X_test_tfidf)"
   ]
  }
 ],
 "metadata": {
  "kernelspec": {
   "display_name": "Python [conda env:base] *",
   "language": "python",
   "name": "conda-base-py"
  },
  "language_info": {
   "codemirror_mode": {
    "name": "ipython",
    "version": 3
   },
   "file_extension": ".py",
   "mimetype": "text/x-python",
   "name": "python",
   "nbconvert_exporter": "python",
   "pygments_lexer": "ipython3",
   "version": "3.12.7"
  }
 },
 "nbformat": 4,
 "nbformat_minor": 5
}
